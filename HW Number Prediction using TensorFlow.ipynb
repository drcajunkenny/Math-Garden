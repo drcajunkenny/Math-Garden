{
 "cells": [
  {
   "cell_type": "markdown",
   "id": "2731e71d",
   "metadata": {},
   "source": [
    "# Imports"
   ]
  },
  {
   "cell_type": "code",
   "execution_count": 60,
   "id": "04068469",
   "metadata": {},
   "outputs": [],
   "source": [
    "import numpy as np\n",
    "import tensorflow as tf\n",
    "from tensorflow.keras.models import Sequential\n",
    "from tensorflow.keras.layers import Dense, Flatten, Dropout\n",
    "from tensorflow.keras.callbacks import TensorBoard\n",
    "from PIL import Image\n",
    "from datetime import datetime\n",
    "import os"
   ]
  },
  {
   "cell_type": "markdown",
   "id": "f31a51cb",
   "metadata": {},
   "source": [
    "# Seed for reproducing"
   ]
  },
  {
   "cell_type": "code",
   "execution_count": 61,
   "id": "98eb7b15",
   "metadata": {},
   "outputs": [],
   "source": [
    "np.random.seed(888)\n",
    "tf.random.set_seed(404)"
   ]
  },
  {
   "cell_type": "markdown",
   "id": "12ec726f",
   "metadata": {},
   "source": [
    "# Constants"
   ]
  },
  {
   "cell_type": "code",
   "execution_count": 62,
   "id": "002714bc",
   "metadata": {},
   "outputs": [],
   "source": [
    "X_TRAIN_PATH = 'MNIST/digit_xtrain.csv'\n",
    "X_TEST_PATH = 'MNIST/digit_xtest.csv'\n",
    "Y_TRAIN_PATH = 'MNIST/digit_ytrain.csv'\n",
    "Y_TEST_PATH = 'MNIST/digit_ytest.csv'\n",
    "NR_CLASSES = 10\n",
    "VALIDATION_SIZE = 10000\n",
    "IMAGE_WIDTH = 28\n",
    "IMAGE_HEIGHT = 28\n",
    "CHANNELS = 1\n",
    "TOTAL_INPUTS = IMAGE_WIDTH * IMAGE_HEIGHT * CHANNELS"
   ]
  },
  {
   "cell_type": "markdown",
   "id": "f39f2263",
   "metadata": {},
   "source": [
    "# Get the Data"
   ]
  },
  {
   "cell_type": "code",
   "execution_count": 63,
   "id": "bfd50855",
   "metadata": {},
   "outputs": [],
   "source": [
    "y_train_all = np.loadtxt(Y_TRAIN_PATH, delimiter=',', dtype=int)\n",
    "x_train_all = np.loadtxt(X_TRAIN_PATH, delimiter=',', dtype=int)\n",
    "x_test = np.loadtxt(X_TEST_PATH, delimiter=',', dtype=int)\n",
    "y_test = np.loadtxt(Y_TEST_PATH, delimiter=',', dtype=int)\n"
   ]
  },
  {
   "cell_type": "markdown",
   "id": "d0464c1f",
   "metadata": {},
   "source": [
    "# Data Preprocessing"
   ]
  },
  {
   "cell_type": "code",
   "execution_count": 64,
   "id": "7a7b3863",
   "metadata": {},
   "outputs": [],
   "source": [
    "x_train_all, x_test = x_train_all / 255.0, x_test / 255.0\n",
    "y_train_all = np.eye(NR_CLASSES)[y_train_all]\n",
    "y_test = np.eye(NR_CLASSES)[y_test]"
   ]
  },
  {
   "cell_type": "markdown",
   "id": "bfa3c63a",
   "metadata": {},
   "source": [
    "# Create validation dataset from training data"
   ]
  },
  {
   "cell_type": "code",
   "execution_count": 65,
   "id": "d6367f4c",
   "metadata": {},
   "outputs": [],
   "source": [
    "x_val = x_train_all[:VALIDATION_SIZE]\n",
    "y_val = y_train_all[:VALIDATION_SIZE]\n",
    "x_train = x_train_all[VALIDATION_SIZE:]\n",
    "y_train = y_train_all[VALIDATION_SIZE:]"
   ]
  },
  {
   "cell_type": "markdown",
   "id": "e7cfe128",
   "metadata": {},
   "source": [
    "# Neural Network Architecture"
   ]
  },
  {
   "cell_type": "code",
   "execution_count": 66,
   "id": "813da82b",
   "metadata": {},
   "outputs": [],
   "source": [
    "nr_epochs = 50\n",
    "learning_rate = 1e-3\n",
    "n_hidden1 = 512\n",
    "n_hidden2 = 64"
   ]
  },
  {
   "cell_type": "markdown",
   "id": "8ebb86f7",
   "metadata": {},
   "source": [
    "# Define the Model"
   ]
  },
  {
   "cell_type": "code",
   "execution_count": 67,
   "id": "21bd8e6f",
   "metadata": {},
   "outputs": [],
   "source": [
    "model = Sequential([\n",
    "    Flatten(input_shape=(TOTAL_INPUTS,)),\n",
    "    Dense(n_hidden1, activation='relu'),\n",
    "    Dropout(0.8),\n",
    "    Dense(n_hidden2, activation='relu'),\n",
    "    Dense(NR_CLASSES, activation='softmax')\n",
    "])"
   ]
  },
  {
   "cell_type": "markdown",
   "id": "ef10797b",
   "metadata": {},
   "source": [
    "# Compile the Model"
   ]
  },
  {
   "cell_type": "code",
   "execution_count": 68,
   "id": "c7ebd525",
   "metadata": {},
   "outputs": [],
   "source": [
    "model.compile(optimizer=tf.keras.optimizers.Adam(learning_rate=learning_rate),\n",
    "              loss='categorical_crossentropy',\n",
    "              metrics=['accuracy'])"
   ]
  },
  {
   "cell_type": "markdown",
   "id": "db932bdc",
   "metadata": {},
   "source": [
    "# TensorBoard Setup"
   ]
  },
  {
   "cell_type": "code",
   "execution_count": 69,
   "id": "ef7aa400",
   "metadata": {},
   "outputs": [],
   "source": [
    "log_dir = os.path.join(\"logs\", \"fit\", datetime.now().strftime(\"%Y%m%d-%H%M%S\"))\n",
    "tensorboard_callback = TensorBoard(log_dir=log_dir, histogram_freq=1)"
   ]
  },
  {
   "cell_type": "markdown",
   "id": "4acfe601",
   "metadata": {},
   "source": [
    "# Training the Model with TensorBoard"
   ]
  },
  {
   "cell_type": "code",
   "execution_count": 70,
   "id": "e18932e5",
   "metadata": {},
   "outputs": [
    {
     "name": "stdout",
     "output_type": "stream",
     "text": [
      "Epoch 1/50\n",
      "50/50 [==============================] - 2s 31ms/step - loss: 0.9662 - accuracy: 0.6894 - val_loss: 0.3286 - val_accuracy: 0.9037\n",
      "Epoch 2/50\n",
      "50/50 [==============================] - 1s 28ms/step - loss: 0.4064 - accuracy: 0.8769 - val_loss: 0.2334 - val_accuracy: 0.9311\n",
      "Epoch 3/50\n",
      "50/50 [==============================] - 1s 27ms/step - loss: 0.3181 - accuracy: 0.9038 - val_loss: 0.1947 - val_accuracy: 0.9412\n",
      "Epoch 4/50\n",
      "50/50 [==============================] - 1s 26ms/step - loss: 0.2733 - accuracy: 0.9177 - val_loss: 0.1669 - val_accuracy: 0.9487\n",
      "Epoch 5/50\n",
      "50/50 [==============================] - 1s 28ms/step - loss: 0.2489 - accuracy: 0.9262 - val_loss: 0.1510 - val_accuracy: 0.9542\n",
      "Epoch 6/50\n",
      "50/50 [==============================] - 1s 24ms/step - loss: 0.2242 - accuracy: 0.9333 - val_loss: 0.1387 - val_accuracy: 0.9580\n",
      "Epoch 7/50\n",
      "50/50 [==============================] - 1s 26ms/step - loss: 0.2041 - accuracy: 0.9389 - val_loss: 0.1289 - val_accuracy: 0.9608\n",
      "Epoch 8/50\n",
      "50/50 [==============================] - 1s 28ms/step - loss: 0.1967 - accuracy: 0.9409 - val_loss: 0.1178 - val_accuracy: 0.9646\n",
      "Epoch 9/50\n",
      "50/50 [==============================] - 1s 25ms/step - loss: 0.1797 - accuracy: 0.9451 - val_loss: 0.1150 - val_accuracy: 0.9643\n",
      "Epoch 10/50\n",
      "50/50 [==============================] - 1s 27ms/step - loss: 0.1751 - accuracy: 0.9460 - val_loss: 0.1108 - val_accuracy: 0.9668\n",
      "Epoch 11/50\n",
      "50/50 [==============================] - 1s 28ms/step - loss: 0.1658 - accuracy: 0.9504 - val_loss: 0.1062 - val_accuracy: 0.9695\n",
      "Epoch 12/50\n",
      "50/50 [==============================] - 1s 27ms/step - loss: 0.1603 - accuracy: 0.9518 - val_loss: 0.1018 - val_accuracy: 0.9707\n",
      "Epoch 13/50\n",
      "50/50 [==============================] - 1s 25ms/step - loss: 0.1540 - accuracy: 0.9541 - val_loss: 0.0988 - val_accuracy: 0.9707\n",
      "Epoch 14/50\n",
      "50/50 [==============================] - 1s 26ms/step - loss: 0.1468 - accuracy: 0.9551 - val_loss: 0.0995 - val_accuracy: 0.9704\n",
      "Epoch 15/50\n",
      "50/50 [==============================] - 1s 27ms/step - loss: 0.1428 - accuracy: 0.9562 - val_loss: 0.0946 - val_accuracy: 0.9716\n",
      "Epoch 16/50\n",
      "50/50 [==============================] - 1s 26ms/step - loss: 0.1411 - accuracy: 0.9576 - val_loss: 0.0921 - val_accuracy: 0.9729\n",
      "Epoch 17/50\n",
      "50/50 [==============================] - 1s 26ms/step - loss: 0.1331 - accuracy: 0.9589 - val_loss: 0.0894 - val_accuracy: 0.9749\n",
      "Epoch 18/50\n",
      "50/50 [==============================] - 1s 27ms/step - loss: 0.1297 - accuracy: 0.9605 - val_loss: 0.0880 - val_accuracy: 0.9737\n",
      "Epoch 19/50\n",
      "50/50 [==============================] - 1s 26ms/step - loss: 0.1293 - accuracy: 0.9609 - val_loss: 0.0868 - val_accuracy: 0.9742\n",
      "Epoch 20/50\n",
      "50/50 [==============================] - 1s 26ms/step - loss: 0.1211 - accuracy: 0.9625 - val_loss: 0.0836 - val_accuracy: 0.9756\n",
      "Epoch 21/50\n",
      "50/50 [==============================] - 1s 27ms/step - loss: 0.1205 - accuracy: 0.9626 - val_loss: 0.0844 - val_accuracy: 0.9752\n",
      "Epoch 22/50\n",
      "50/50 [==============================] - 1s 25ms/step - loss: 0.1215 - accuracy: 0.9625 - val_loss: 0.0821 - val_accuracy: 0.9755\n",
      "Epoch 23/50\n",
      "50/50 [==============================] - 1s 25ms/step - loss: 0.1171 - accuracy: 0.9624 - val_loss: 0.0806 - val_accuracy: 0.9762\n",
      "Epoch 24/50\n",
      "50/50 [==============================] - 1s 27ms/step - loss: 0.1123 - accuracy: 0.9650 - val_loss: 0.0799 - val_accuracy: 0.9768\n",
      "Epoch 25/50\n",
      "50/50 [==============================] - 1s 25ms/step - loss: 0.1098 - accuracy: 0.9649 - val_loss: 0.0799 - val_accuracy: 0.9772\n",
      "Epoch 26/50\n",
      "50/50 [==============================] - 1s 28ms/step - loss: 0.1086 - accuracy: 0.9662 - val_loss: 0.0790 - val_accuracy: 0.9775\n",
      "Epoch 27/50\n",
      "50/50 [==============================] - 1s 27ms/step - loss: 0.1044 - accuracy: 0.9668 - val_loss: 0.0787 - val_accuracy: 0.9770\n",
      "Epoch 28/50\n",
      "50/50 [==============================] - 1s 25ms/step - loss: 0.1069 - accuracy: 0.9670 - val_loss: 0.0772 - val_accuracy: 0.9783\n",
      "Epoch 29/50\n",
      "50/50 [==============================] - 1s 26ms/step - loss: 0.1004 - accuracy: 0.9680 - val_loss: 0.0778 - val_accuracy: 0.9774\n",
      "Epoch 30/50\n",
      "50/50 [==============================] - 1s 23ms/step - loss: 0.1028 - accuracy: 0.9676 - val_loss: 0.0786 - val_accuracy: 0.9769\n",
      "Epoch 31/50\n",
      "50/50 [==============================] - 1s 25ms/step - loss: 0.1010 - accuracy: 0.9680 - val_loss: 0.0784 - val_accuracy: 0.9775\n",
      "Epoch 32/50\n",
      "50/50 [==============================] - 1s 25ms/step - loss: 0.0978 - accuracy: 0.9687 - val_loss: 0.0772 - val_accuracy: 0.9787\n",
      "Epoch 33/50\n",
      "50/50 [==============================] - 1s 26ms/step - loss: 0.0973 - accuracy: 0.9690 - val_loss: 0.0786 - val_accuracy: 0.9781\n",
      "Epoch 34/50\n",
      "50/50 [==============================] - 1s 24ms/step - loss: 0.0939 - accuracy: 0.9697 - val_loss: 0.0767 - val_accuracy: 0.9787\n",
      "Epoch 35/50\n",
      "50/50 [==============================] - 1s 26ms/step - loss: 0.0938 - accuracy: 0.9687 - val_loss: 0.0783 - val_accuracy: 0.9772\n",
      "Epoch 36/50\n",
      "50/50 [==============================] - 1s 27ms/step - loss: 0.0941 - accuracy: 0.9698 - val_loss: 0.0767 - val_accuracy: 0.9786\n",
      "Epoch 37/50\n",
      "50/50 [==============================] - 1s 24ms/step - loss: 0.0891 - accuracy: 0.9714 - val_loss: 0.0754 - val_accuracy: 0.9777\n",
      "Epoch 38/50\n",
      "50/50 [==============================] - 1s 26ms/step - loss: 0.0887 - accuracy: 0.9710 - val_loss: 0.0760 - val_accuracy: 0.9776\n",
      "Epoch 39/50\n",
      "50/50 [==============================] - 1s 26ms/step - loss: 0.0850 - accuracy: 0.9732 - val_loss: 0.0747 - val_accuracy: 0.9783\n",
      "Epoch 40/50\n",
      "50/50 [==============================] - 1s 27ms/step - loss: 0.0886 - accuracy: 0.9715 - val_loss: 0.0756 - val_accuracy: 0.9789\n",
      "Epoch 41/50\n",
      "50/50 [==============================] - 1s 25ms/step - loss: 0.0863 - accuracy: 0.9716 - val_loss: 0.0756 - val_accuracy: 0.9790\n",
      "Epoch 42/50\n",
      "50/50 [==============================] - 1s 25ms/step - loss: 0.0836 - accuracy: 0.9727 - val_loss: 0.0756 - val_accuracy: 0.9796\n",
      "Epoch 43/50\n",
      "50/50 [==============================] - 1s 24ms/step - loss: 0.0810 - accuracy: 0.9729 - val_loss: 0.0741 - val_accuracy: 0.9795\n",
      "Epoch 44/50\n",
      "50/50 [==============================] - 1s 25ms/step - loss: 0.0805 - accuracy: 0.9739 - val_loss: 0.0736 - val_accuracy: 0.9794\n",
      "Epoch 45/50\n",
      "50/50 [==============================] - 1s 26ms/step - loss: 0.0844 - accuracy: 0.9724 - val_loss: 0.0754 - val_accuracy: 0.9798\n",
      "Epoch 46/50\n",
      "50/50 [==============================] - 1s 24ms/step - loss: 0.0788 - accuracy: 0.9740 - val_loss: 0.0757 - val_accuracy: 0.9805\n",
      "Epoch 47/50\n",
      "50/50 [==============================] - 1s 24ms/step - loss: 0.0801 - accuracy: 0.9733 - val_loss: 0.0726 - val_accuracy: 0.9798\n",
      "Epoch 48/50\n",
      "50/50 [==============================] - 1s 24ms/step - loss: 0.0791 - accuracy: 0.9747 - val_loss: 0.0760 - val_accuracy: 0.9796\n",
      "Epoch 49/50\n",
      "50/50 [==============================] - 1s 23ms/step - loss: 0.0720 - accuracy: 0.9758 - val_loss: 0.0767 - val_accuracy: 0.9794\n",
      "Epoch 50/50\n",
      "50/50 [==============================] - 1s 26ms/step - loss: 0.0774 - accuracy: 0.9743 - val_loss: 0.0757 - val_accuracy: 0.9806\n"
     ]
    }
   ],
   "source": [
    "history = model.fit(\n",
    "    x_train, y_train, \n",
    "    epochs=nr_epochs, \n",
    "    batch_size=1000, \n",
    "    validation_data=(x_val, y_val), \n",
    "    callbacks=[tensorboard_callback]\n",
    ")"
   ]
  },
  {
   "cell_type": "markdown",
   "id": "fee3e5a4",
   "metadata": {},
   "source": [
    "# Making a Prediction"
   ]
  },
  {
   "cell_type": "code",
   "execution_count": 71,
   "id": "7402b013",
   "metadata": {},
   "outputs": [],
   "source": [
    "def make_prediction(image_path):\n",
    "    img = Image.open(image_path)\n",
    "    bw = img.convert('L')\n",
    "    img_array = np.invert(bw)\n",
    "    test_img = img_array.ravel() / 255.0\n",
    "    prediction = model.predict(np.array([test_img]))\n",
    "    return np.argmax(prediction)"
   ]
  },
  {
   "cell_type": "markdown",
   "id": "edead80a",
   "metadata": {},
   "source": [
    "# Example of making a prediction"
   ]
  },
  {
   "cell_type": "code",
   "execution_count": 72,
   "id": "fbaab4b5",
   "metadata": {},
   "outputs": [
    {
     "name": "stdout",
     "output_type": "stream",
     "text": [
      "1/1 [==============================] - 0s 61ms/step\n",
      "Prediction for test image is 2\n"
     ]
    }
   ],
   "source": [
    "prediction = make_prediction('MNIST/test_img.png')\n",
    "print(f'Prediction for test image is {prediction}')"
   ]
  },
  {
   "cell_type": "markdown",
   "id": "4e8f64ad",
   "metadata": {},
   "source": [
    "# Testing and Evaluation"
   ]
  },
  {
   "cell_type": "code",
   "execution_count": 73,
   "id": "6f91cd29",
   "metadata": {},
   "outputs": [
    {
     "name": "stdout",
     "output_type": "stream",
     "text": [
      "313/313 [==============================] - 1s 3ms/step - loss: 0.0709 - accuracy: 0.9797\n",
      "Test loss: 0.07092146575450897, Test accuracy: 97.97%\n"
     ]
    }
   ],
   "source": [
    "test_loss, test_accuracy = model.evaluate(x_test, y_test)\n",
    "print(f\"Test loss: {test_loss}, Test accuracy: {test_accuracy:.2%}\")"
   ]
  }
 ],
 "metadata": {
  "kernelspec": {
   "display_name": "Python 3 (ipykernel)",
   "language": "python",
   "name": "python3"
  },
  "language_info": {
   "codemirror_mode": {
    "name": "ipython",
    "version": 3
   },
   "file_extension": ".py",
   "mimetype": "text/x-python",
   "name": "python",
   "nbconvert_exporter": "python",
   "pygments_lexer": "ipython3",
   "version": "3.11.5"
  }
 },
 "nbformat": 4,
 "nbformat_minor": 5
}
