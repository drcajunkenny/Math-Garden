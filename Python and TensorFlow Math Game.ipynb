{
 "cells": [
  {
   "cell_type": "markdown",
   "id": "2731e71d",
   "metadata": {},
   "source": [
    "# Imports"
   ]
  },
  {
   "cell_type": "code",
   "execution_count": 1,
   "id": "04068469",
   "metadata": {},
   "outputs": [
    {
     "name": "stderr",
     "output_type": "stream",
     "text": [
      "2024-01-29 16:07:57.753386: I tensorflow/core/platform/cpu_feature_guard.cc:182] This TensorFlow binary is optimized to use available CPU instructions in performance-critical operations.\n",
      "To enable the following instructions: SSE4.1 SSE4.2 AVX AVX2 FMA, in other operations, rebuild TensorFlow with the appropriate compiler flags.\n"
     ]
    }
   ],
   "source": [
    "import numpy as np\n",
    "import tensorflow as tf\n",
    "from tensorflow.keras.models import Sequential\n",
    "from tensorflow.keras.layers import Dense, Flatten, Dropout\n",
    "from tensorflow.keras.callbacks import TensorBoard\n",
    "from PIL import Image\n",
    "from datetime import datetime\n",
    "import os"
   ]
  },
  {
   "cell_type": "markdown",
   "id": "f31a51cb",
   "metadata": {},
   "source": [
    "# Seed for reproducing"
   ]
  },
  {
   "cell_type": "code",
   "execution_count": 2,
   "id": "98eb7b15",
   "metadata": {},
   "outputs": [],
   "source": [
    "np.random.seed(888)\n",
    "tf.random.set_seed(404)"
   ]
  },
  {
   "cell_type": "markdown",
   "id": "12ec726f",
   "metadata": {},
   "source": [
    "# Constants"
   ]
  },
  {
   "cell_type": "code",
   "execution_count": 3,
   "id": "002714bc",
   "metadata": {},
   "outputs": [],
   "source": [
    "X_TRAIN_PATH = 'MNIST/digit_xtrain.csv'\n",
    "X_TEST_PATH = 'MNIST/digit_xtest.csv'\n",
    "Y_TRAIN_PATH = 'MNIST/digit_ytrain.csv'\n",
    "Y_TEST_PATH = 'MNIST/digit_ytest.csv'\n",
    "NR_CLASSES = 10\n",
    "VALIDATION_SIZE = 10000\n",
    "IMAGE_WIDTH = 28\n",
    "IMAGE_HEIGHT = 28\n",
    "CHANNELS = 1\n",
    "TOTAL_INPUTS = IMAGE_WIDTH * IMAGE_HEIGHT * CHANNELS"
   ]
  },
  {
   "cell_type": "markdown",
   "id": "f39f2263",
   "metadata": {},
   "source": [
    "# Get the Data"
   ]
  },
  {
   "cell_type": "code",
   "execution_count": 4,
   "id": "bfd50855",
   "metadata": {},
   "outputs": [],
   "source": [
    "y_train_all = np.loadtxt(Y_TRAIN_PATH, delimiter=',', dtype=int)\n",
    "x_train_all = np.loadtxt(X_TRAIN_PATH, delimiter=',', dtype=int)\n",
    "x_test = np.loadtxt(X_TEST_PATH, delimiter=',', dtype=int)\n",
    "y_test = np.loadtxt(Y_TEST_PATH, delimiter=',', dtype=int)\n"
   ]
  },
  {
   "cell_type": "markdown",
   "id": "d0464c1f",
   "metadata": {},
   "source": [
    "# Data Preprocessing"
   ]
  },
  {
   "cell_type": "code",
   "execution_count": 5,
   "id": "7a7b3863",
   "metadata": {},
   "outputs": [],
   "source": [
    "x_train_all, x_test = x_train_all / 255.0, x_test / 255.0\n",
    "y_train_all = np.eye(NR_CLASSES)[y_train_all]\n",
    "y_test = np.eye(NR_CLASSES)[y_test]"
   ]
  },
  {
   "cell_type": "markdown",
   "id": "bfa3c63a",
   "metadata": {},
   "source": [
    "# Create validation dataset from training data"
   ]
  },
  {
   "cell_type": "code",
   "execution_count": 6,
   "id": "d6367f4c",
   "metadata": {},
   "outputs": [],
   "source": [
    "x_val = x_train_all[:VALIDATION_SIZE]\n",
    "y_val = y_train_all[:VALIDATION_SIZE]\n",
    "x_train = x_train_all[VALIDATION_SIZE:]\n",
    "y_train = y_train_all[VALIDATION_SIZE:]"
   ]
  },
  {
   "cell_type": "markdown",
   "id": "e7cfe128",
   "metadata": {},
   "source": [
    "# Neural Network Architecture"
   ]
  },
  {
   "cell_type": "code",
   "execution_count": 7,
   "id": "813da82b",
   "metadata": {},
   "outputs": [],
   "source": [
    "nr_epochs = 50\n",
    "learning_rate = 1e-3\n",
    "n_hidden1 = 512\n",
    "n_hidden2 = 64"
   ]
  },
  {
   "cell_type": "markdown",
   "id": "8ebb86f7",
   "metadata": {},
   "source": [
    "# Define the Model"
   ]
  },
  {
   "cell_type": "code",
   "execution_count": 8,
   "id": "21bd8e6f",
   "metadata": {},
   "outputs": [],
   "source": [
    "model = Sequential([\n",
    "    Flatten(input_shape=(TOTAL_INPUTS,)),\n",
    "    Dense(n_hidden1, activation='relu'),\n",
    "    Dropout(0.8),\n",
    "    Dense(n_hidden2, activation='relu'),\n",
    "    Dense(NR_CLASSES, activation='softmax')\n",
    "])"
   ]
  },
  {
   "cell_type": "markdown",
   "id": "ef10797b",
   "metadata": {},
   "source": [
    "# Compile the Model"
   ]
  },
  {
   "cell_type": "code",
   "execution_count": 9,
   "id": "c7ebd525",
   "metadata": {},
   "outputs": [],
   "source": [
    "model.compile(optimizer=tf.keras.optimizers.Adam(learning_rate=learning_rate),\n",
    "              loss='categorical_crossentropy',\n",
    "              metrics=['accuracy'])"
   ]
  },
  {
   "cell_type": "markdown",
   "id": "db932bdc",
   "metadata": {},
   "source": [
    "# TensorBoard Setup"
   ]
  },
  {
   "cell_type": "code",
   "execution_count": 10,
   "id": "ef7aa400",
   "metadata": {},
   "outputs": [],
   "source": [
    "log_dir = os.path.join(\"logs\", \"fit\", datetime.now().strftime(\"%Y%m%d-%H%M%S\"))\n",
    "tensorboard_callback = TensorBoard(log_dir=log_dir, histogram_freq=1)"
   ]
  },
  {
   "cell_type": "markdown",
   "id": "4acfe601",
   "metadata": {},
   "source": [
    "# Training the Model with TensorBoard"
   ]
  },
  {
   "cell_type": "code",
   "execution_count": 11,
   "id": "e18932e5",
   "metadata": {},
   "outputs": [
    {
     "name": "stdout",
     "output_type": "stream",
     "text": [
      "Epoch 1/50\n",
      "50/50 [==============================] - 2s 23ms/step - loss: 0.9954 - accuracy: 0.6813 - val_loss: 0.3377 - val_accuracy: 0.9047\n",
      "Epoch 2/50\n",
      "50/50 [==============================] - 1s 16ms/step - loss: 0.4118 - accuracy: 0.8761 - val_loss: 0.2365 - val_accuracy: 0.9312\n",
      "Epoch 3/50\n",
      "50/50 [==============================] - 1s 16ms/step - loss: 0.3238 - accuracy: 0.9017 - val_loss: 0.1948 - val_accuracy: 0.9420\n",
      "Epoch 4/50\n",
      "50/50 [==============================] - 1s 17ms/step - loss: 0.2769 - accuracy: 0.9181 - val_loss: 0.1676 - val_accuracy: 0.9498\n",
      "Epoch 5/50\n",
      "50/50 [==============================] - 1s 17ms/step - loss: 0.2456 - accuracy: 0.9267 - val_loss: 0.1544 - val_accuracy: 0.9535\n",
      "Epoch 6/50\n",
      "50/50 [==============================] - 1s 17ms/step - loss: 0.2247 - accuracy: 0.9332 - val_loss: 0.1384 - val_accuracy: 0.9593\n",
      "Epoch 7/50\n",
      "50/50 [==============================] - 1s 18ms/step - loss: 0.2056 - accuracy: 0.9394 - val_loss: 0.1325 - val_accuracy: 0.9601\n",
      "Epoch 8/50\n",
      "50/50 [==============================] - 1s 18ms/step - loss: 0.1905 - accuracy: 0.9429 - val_loss: 0.1212 - val_accuracy: 0.9642\n",
      "Epoch 9/50\n",
      "50/50 [==============================] - 1s 18ms/step - loss: 0.1825 - accuracy: 0.9462 - val_loss: 0.1162 - val_accuracy: 0.9653\n",
      "Epoch 10/50\n",
      "50/50 [==============================] - 1s 18ms/step - loss: 0.1744 - accuracy: 0.9490 - val_loss: 0.1114 - val_accuracy: 0.9666\n",
      "Epoch 11/50\n",
      "50/50 [==============================] - 1s 19ms/step - loss: 0.1675 - accuracy: 0.9508 - val_loss: 0.1070 - val_accuracy: 0.9695\n",
      "Epoch 12/50\n",
      "50/50 [==============================] - 1s 19ms/step - loss: 0.1562 - accuracy: 0.9535 - val_loss: 0.1015 - val_accuracy: 0.9702\n",
      "Epoch 13/50\n",
      "50/50 [==============================] - 1s 18ms/step - loss: 0.1526 - accuracy: 0.9528 - val_loss: 0.0991 - val_accuracy: 0.9707\n",
      "Epoch 14/50\n",
      "50/50 [==============================] - 1s 19ms/step - loss: 0.1460 - accuracy: 0.9568 - val_loss: 0.0996 - val_accuracy: 0.9712\n",
      "Epoch 15/50\n",
      "50/50 [==============================] - 1s 19ms/step - loss: 0.1433 - accuracy: 0.9567 - val_loss: 0.0950 - val_accuracy: 0.9727\n",
      "Epoch 16/50\n",
      "50/50 [==============================] - 1s 19ms/step - loss: 0.1374 - accuracy: 0.9579 - val_loss: 0.0932 - val_accuracy: 0.9732\n",
      "Epoch 17/50\n",
      "50/50 [==============================] - 1s 19ms/step - loss: 0.1310 - accuracy: 0.9595 - val_loss: 0.0928 - val_accuracy: 0.9745\n",
      "Epoch 18/50\n",
      "50/50 [==============================] - 1s 20ms/step - loss: 0.1311 - accuracy: 0.9598 - val_loss: 0.0886 - val_accuracy: 0.9750\n",
      "Epoch 19/50\n",
      "50/50 [==============================] - 1s 19ms/step - loss: 0.1280 - accuracy: 0.9610 - val_loss: 0.0896 - val_accuracy: 0.9742\n",
      "Epoch 20/50\n",
      "50/50 [==============================] - 1s 21ms/step - loss: 0.1224 - accuracy: 0.9625 - val_loss: 0.0869 - val_accuracy: 0.9745\n",
      "Epoch 21/50\n",
      "50/50 [==============================] - 1s 20ms/step - loss: 0.1167 - accuracy: 0.9639 - val_loss: 0.0844 - val_accuracy: 0.9766\n",
      "Epoch 22/50\n",
      "50/50 [==============================] - 1s 20ms/step - loss: 0.1186 - accuracy: 0.9645 - val_loss: 0.0843 - val_accuracy: 0.9766\n",
      "Epoch 23/50\n",
      "50/50 [==============================] - 1s 20ms/step - loss: 0.1125 - accuracy: 0.9653 - val_loss: 0.0811 - val_accuracy: 0.9764\n",
      "Epoch 24/50\n",
      "50/50 [==============================] - 1s 20ms/step - loss: 0.1092 - accuracy: 0.9659 - val_loss: 0.0818 - val_accuracy: 0.9767\n",
      "Epoch 25/50\n",
      "50/50 [==============================] - 1s 21ms/step - loss: 0.1106 - accuracy: 0.9652 - val_loss: 0.0818 - val_accuracy: 0.9781\n",
      "Epoch 26/50\n",
      "50/50 [==============================] - 1s 19ms/step - loss: 0.1073 - accuracy: 0.9668 - val_loss: 0.0810 - val_accuracy: 0.9768\n",
      "Epoch 27/50\n",
      "50/50 [==============================] - 1s 20ms/step - loss: 0.1074 - accuracy: 0.9660 - val_loss: 0.0809 - val_accuracy: 0.9775\n",
      "Epoch 28/50\n",
      "50/50 [==============================] - 1s 21ms/step - loss: 0.1052 - accuracy: 0.9670 - val_loss: 0.0787 - val_accuracy: 0.9787\n",
      "Epoch 29/50\n",
      "50/50 [==============================] - 1s 20ms/step - loss: 0.1034 - accuracy: 0.9673 - val_loss: 0.0762 - val_accuracy: 0.9776\n",
      "Epoch 30/50\n",
      "50/50 [==============================] - 1s 22ms/step - loss: 0.1011 - accuracy: 0.9687 - val_loss: 0.0792 - val_accuracy: 0.9788\n",
      "Epoch 31/50\n",
      "50/50 [==============================] - 1s 22ms/step - loss: 0.0967 - accuracy: 0.9689 - val_loss: 0.0809 - val_accuracy: 0.9780\n",
      "Epoch 32/50\n",
      "50/50 [==============================] - 1s 23ms/step - loss: 0.0963 - accuracy: 0.9686 - val_loss: 0.0778 - val_accuracy: 0.9795\n",
      "Epoch 33/50\n",
      "50/50 [==============================] - 1s 23ms/step - loss: 0.0923 - accuracy: 0.9698 - val_loss: 0.0774 - val_accuracy: 0.9795\n",
      "Epoch 34/50\n",
      "50/50 [==============================] - 1s 22ms/step - loss: 0.0914 - accuracy: 0.9708 - val_loss: 0.0784 - val_accuracy: 0.9789\n",
      "Epoch 35/50\n",
      "50/50 [==============================] - 1s 24ms/step - loss: 0.0929 - accuracy: 0.9698 - val_loss: 0.0773 - val_accuracy: 0.9789\n",
      "Epoch 36/50\n",
      "50/50 [==============================] - 1s 23ms/step - loss: 0.0898 - accuracy: 0.9714 - val_loss: 0.0763 - val_accuracy: 0.9797\n",
      "Epoch 37/50\n",
      "50/50 [==============================] - 1s 23ms/step - loss: 0.0873 - accuracy: 0.9724 - val_loss: 0.0790 - val_accuracy: 0.9781\n",
      "Epoch 38/50\n",
      "50/50 [==============================] - 1s 22ms/step - loss: 0.0863 - accuracy: 0.9724 - val_loss: 0.0758 - val_accuracy: 0.9804\n",
      "Epoch 39/50\n",
      "50/50 [==============================] - 1s 21ms/step - loss: 0.0873 - accuracy: 0.9714 - val_loss: 0.0773 - val_accuracy: 0.9800\n",
      "Epoch 40/50\n",
      "50/50 [==============================] - 1s 19ms/step - loss: 0.0868 - accuracy: 0.9716 - val_loss: 0.0775 - val_accuracy: 0.9799\n",
      "Epoch 41/50\n",
      "50/50 [==============================] - 1s 21ms/step - loss: 0.0850 - accuracy: 0.9725 - val_loss: 0.0779 - val_accuracy: 0.9798\n",
      "Epoch 42/50\n",
      "50/50 [==============================] - 1s 21ms/step - loss: 0.0838 - accuracy: 0.9729 - val_loss: 0.0766 - val_accuracy: 0.9792\n",
      "Epoch 43/50\n",
      "50/50 [==============================] - 1s 20ms/step - loss: 0.0798 - accuracy: 0.9740 - val_loss: 0.0763 - val_accuracy: 0.9800\n",
      "Epoch 44/50\n",
      "50/50 [==============================] - 1s 22ms/step - loss: 0.0804 - accuracy: 0.9745 - val_loss: 0.0752 - val_accuracy: 0.9799\n",
      "Epoch 45/50\n",
      "50/50 [==============================] - 1s 22ms/step - loss: 0.0796 - accuracy: 0.9733 - val_loss: 0.0787 - val_accuracy: 0.9803\n",
      "Epoch 46/50\n",
      "50/50 [==============================] - 1s 22ms/step - loss: 0.0780 - accuracy: 0.9742 - val_loss: 0.0772 - val_accuracy: 0.9804\n",
      "Epoch 47/50\n",
      "50/50 [==============================] - 1s 23ms/step - loss: 0.0803 - accuracy: 0.9740 - val_loss: 0.0743 - val_accuracy: 0.9806\n",
      "Epoch 48/50\n",
      "50/50 [==============================] - 1s 21ms/step - loss: 0.0783 - accuracy: 0.9745 - val_loss: 0.0786 - val_accuracy: 0.9801\n",
      "Epoch 49/50\n",
      "50/50 [==============================] - 1s 22ms/step - loss: 0.0731 - accuracy: 0.9761 - val_loss: 0.0759 - val_accuracy: 0.9807\n",
      "Epoch 50/50\n",
      "50/50 [==============================] - 1s 22ms/step - loss: 0.0802 - accuracy: 0.9732 - val_loss: 0.0787 - val_accuracy: 0.9799\n"
     ]
    }
   ],
   "source": [
    "history = model.fit(\n",
    "    x_train, y_train, \n",
    "    epochs=nr_epochs, \n",
    "    batch_size=1000, \n",
    "    validation_data=(x_val, y_val), \n",
    "    callbacks=[tensorboard_callback]\n",
    ")"
   ]
  },
  {
   "cell_type": "markdown",
   "id": "c344c732",
   "metadata": {},
   "source": [
    "# Saving the Model"
   ]
  },
  {
   "cell_type": "code",
   "execution_count": 12,
   "id": "d503d3a6",
   "metadata": {},
   "outputs": [
    {
     "name": "stderr",
     "output_type": "stream",
     "text": [
      "2024-01-29 16:08:57.556618: I tensorflow/core/common_runtime/executor.cc:1197] [/device:CPU:0] (DEBUG INFO) Executor start aborting (this does not indicate an error and you can ignore this message): INVALID_ARGUMENT: You must feed a value for placeholder tensor 'inputs' with dtype float and shape [?,512]\n",
      "\t [[{{node inputs}}]]\n",
      "2024-01-29 16:08:57.773605: I tensorflow/core/common_runtime/executor.cc:1197] [/device:CPU:0] (DEBUG INFO) Executor start aborting (this does not indicate an error and you can ignore this message): INVALID_ARGUMENT: You must feed a value for placeholder tensor 'inputs' with dtype float and shape [?,512]\n",
      "\t [[{{node inputs}}]]\n",
      "WARNING:absl:Found untraced functions such as _update_step_xla while saving (showing 1 of 1). These functions will not be directly callable after loading.\n"
     ]
    },
    {
     "name": "stdout",
     "output_type": "stream",
     "text": [
      "INFO:tensorflow:Assets written to: SavedModel/my_model/assets\n"
     ]
    },
    {
     "name": "stderr",
     "output_type": "stream",
     "text": [
      "INFO:tensorflow:Assets written to: SavedModel/my_model/assets\n"
     ]
    }
   ],
   "source": [
    "model.save('SavedModel/my_model')"
   ]
  },
  {
   "cell_type": "markdown",
   "id": "fee3e5a4",
   "metadata": {},
   "source": [
    "# Making a Prediction"
   ]
  },
  {
   "cell_type": "code",
   "execution_count": 13,
   "id": "7402b013",
   "metadata": {},
   "outputs": [],
   "source": [
    "def make_prediction(image_path):\n",
    "    img = Image.open(image_path)\n",
    "    bw = img.convert('L')\n",
    "    img_array = np.invert(bw)\n",
    "    test_img = img_array.ravel() / 255.0\n",
    "    prediction = model.predict(np.array([test_img]))\n",
    "    return np.argmax(prediction)"
   ]
  },
  {
   "cell_type": "markdown",
   "id": "edead80a",
   "metadata": {},
   "source": [
    "# Example of making a prediction"
   ]
  },
  {
   "cell_type": "code",
   "execution_count": 14,
   "id": "fbaab4b5",
   "metadata": {},
   "outputs": [
    {
     "name": "stdout",
     "output_type": "stream",
     "text": [
      "1/1 [==============================] - 0s 87ms/step\n",
      "Prediction for test image is 2\n"
     ]
    }
   ],
   "source": [
    "prediction = make_prediction('MNIST/test_img.png')\n",
    "print(f'Prediction for test image is {prediction}')"
   ]
  },
  {
   "cell_type": "markdown",
   "id": "4e8f64ad",
   "metadata": {},
   "source": [
    "# Testing and Evaluation"
   ]
  },
  {
   "cell_type": "code",
   "execution_count": 15,
   "id": "6f91cd29",
   "metadata": {},
   "outputs": [
    {
     "name": "stdout",
     "output_type": "stream",
     "text": [
      "313/313 [==============================] - 1s 2ms/step - loss: 0.0694 - accuracy: 0.9802\n",
      "Test loss: 0.06939810514450073, Test accuracy: 98.02%\n"
     ]
    }
   ],
   "source": [
    "test_loss, test_accuracy = model.evaluate(x_test, y_test)\n",
    "print(f\"Test loss: {test_loss}, Test accuracy: {test_accuracy:.2%}\")"
   ]
  }
 ],
 "metadata": {
  "kernelspec": {
   "display_name": "Python 3 (ipykernel)",
   "language": "python",
   "name": "python3"
  },
  "language_info": {
   "codemirror_mode": {
    "name": "ipython",
    "version": 3
   },
   "file_extension": ".py",
   "mimetype": "text/x-python",
   "name": "python",
   "nbconvert_exporter": "python",
   "pygments_lexer": "ipython3",
   "version": "3.11.5"
  }
 },
 "nbformat": 4,
 "nbformat_minor": 5
}
