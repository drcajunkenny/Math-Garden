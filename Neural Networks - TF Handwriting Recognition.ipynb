{
 "cells": [
  {
   "cell_type": "markdown",
   "metadata": {},
   "source": [
    "# Imports"
   ]
  },
  {
   "cell_type": "code",
   "execution_count": 103,
   "metadata": {},
   "outputs": [],
   "source": [
    "from numpy.random import seed\n",
    "seed(888)\n",
    "from tensorflow import random\n",
    "random.set_seed(404)"
   ]
  },
  {
   "cell_type": "code",
   "execution_count": 104,
   "metadata": {},
   "outputs": [],
   "source": [
    "import os\n",
    "import numpy as np\n",
    "import tensorflow as tf\n",
    "\n",
    "from time import strftime\n",
    "from PIL import Image"
   ]
  },
  {
   "cell_type": "markdown",
   "metadata": {},
   "source": [
    "# Constants"
   ]
  },
  {
   "cell_type": "code",
   "execution_count": 105,
   "metadata": {},
   "outputs": [],
   "source": [
    "X_TRAIN_PATH = 'MNIST/digit_xtrain.csv'\n",
    "X_TEST_PATH = 'MNIST/digit_xtest.csv'\n",
    "Y_TRAIN_PATH = 'MNIST/digit_ytrain.csv'\n",
    "Y_TEST_PATH = 'MNIST/digit_ytest.csv'\n",
    "\n",
    "LOGGING_PATH = 'tensorboard_mnist_digit_logs/'\n",
    "\n",
    "NR_CLASSES = 10\n",
    "VALIDATION_SIZE = 10000\n",
    "IMAGE_WIDTH = 28\n",
    "IMAGE_HEIGHT = 28\n",
    "CHANNELS = 1\n",
    "TOTAL_INPUTS = IMAGE_WIDTH*IMAGE_HEIGHT*CHANNELS"
   ]
  },
  {
   "cell_type": "markdown",
   "metadata": {},
   "source": [
    "# Get the Data"
   ]
  },
  {
   "cell_type": "code",
   "execution_count": 106,
   "metadata": {
    "scrolled": true
   },
   "outputs": [
    {
     "name": "stdout",
     "output_type": "stream",
     "text": [
      "CPU times: user 3.96 ms, sys: 1.89 ms, total: 5.85 ms\n",
      "Wall time: 5.02 ms\n"
     ]
    }
   ],
   "source": [
    "%%time\n",
    "\n",
    "y_train_all = np.loadtxt(Y_TRAIN_PATH, delimiter=',', dtype=int)"
   ]
  },
  {
   "cell_type": "code",
   "execution_count": 107,
   "metadata": {},
   "outputs": [
    {
     "data": {
      "text/plain": [
       "(60000,)"
      ]
     },
     "execution_count": 107,
     "metadata": {},
     "output_type": "execute_result"
    }
   ],
   "source": [
    "y_train_all.shape"
   ]
  },
  {
   "cell_type": "code",
   "execution_count": 108,
   "metadata": {},
   "outputs": [],
   "source": [
    "y_test = np.loadtxt(Y_TEST_PATH, delimiter=',', dtype=int)"
   ]
  },
  {
   "cell_type": "code",
   "execution_count": 109,
   "metadata": {},
   "outputs": [
    {
     "name": "stdout",
     "output_type": "stream",
     "text": [
      "CPU times: user 1.56 s, sys: 201 ms, total: 1.76 s\n",
      "Wall time: 1.76 s\n"
     ]
    }
   ],
   "source": [
    "%%time\n",
    "\n",
    "x_train_all = np.loadtxt(X_TRAIN_PATH, delimiter=',', dtype=int)"
   ]
  },
  {
   "cell_type": "code",
   "execution_count": 110,
   "metadata": {},
   "outputs": [
    {
     "name": "stdout",
     "output_type": "stream",
     "text": [
      "CPU times: user 263 ms, sys: 40.6 ms, total: 303 ms\n",
      "Wall time: 302 ms\n"
     ]
    }
   ],
   "source": [
    "%%time\n",
    "\n",
    "x_test = np.loadtxt(X_TEST_PATH, delimiter=',', dtype=int)"
   ]
  },
  {
   "cell_type": "markdown",
   "metadata": {},
   "source": [
    "# Explore"
   ]
  },
  {
   "cell_type": "code",
   "execution_count": 111,
   "metadata": {},
   "outputs": [
    {
     "data": {
      "text/plain": [
       "(60000, 784)"
      ]
     },
     "execution_count": 111,
     "metadata": {},
     "output_type": "execute_result"
    }
   ],
   "source": [
    "x_train_all.shape"
   ]
  },
  {
   "cell_type": "code",
   "execution_count": 112,
   "metadata": {},
   "outputs": [
    {
     "data": {
      "text/plain": [
       "array([  0,   0,   0,   0,   0,   0,   0,   0,   0,   0,   0,   0,   0,\n",
       "         0,   0,   0,   0,   0,   0,   0,   0,   0,   0,   0,   0,   0,\n",
       "         0,   0,   0,   0,   0,   0,   0,   0,   0,   0,   0,   0,   0,\n",
       "         0,   0,   0,   0,   0,   0,   0,   0,   0,   0,   0,   0,   0,\n",
       "         0,   0,   0,   0,   0,   0,   0,   0,   0,   0,   0,   0,   0,\n",
       "         0,   0,   0,   0,   0,   0,   0,   0,   0,   0,   0,   0,   0,\n",
       "         0,   0,   0,   0,   0,   0,   0,   0,   0,   0,   0,   0,   0,\n",
       "         0,   0,   0,   0,   0,   0,   0,   0,   0,   0,   0,   0,   0,\n",
       "         0,   0,   0,   0,   0,   0,   0,   0,   0,   0,   0,   0,   0,\n",
       "         0,   0,   0,   0,   0,   0,   0,   0,   0,   0,   0,   0,   0,\n",
       "         0,   0,   0,   0,   0,   0,   0,   0,   0,   0,   0,   0,   0,\n",
       "         0,   0,   0,   0,   0,   0,   0,   0,   0,   3,  18,  18,  18,\n",
       "       126, 136, 175,  26, 166, 255, 247, 127,   0,   0,   0,   0,   0,\n",
       "         0,   0,   0,   0,   0,   0,   0,  30,  36,  94, 154, 170, 253,\n",
       "       253, 253, 253, 253, 225, 172, 253, 242, 195,  64,   0,   0,   0,\n",
       "         0,   0,   0,   0,   0,   0,   0,   0,  49, 238, 253, 253, 253,\n",
       "       253, 253, 253, 253, 253, 251,  93,  82,  82,  56,  39,   0,   0,\n",
       "         0,   0,   0,   0,   0,   0,   0,   0,   0,   0,  18, 219, 253,\n",
       "       253, 253, 253, 253, 198, 182, 247, 241,   0,   0,   0,   0,   0,\n",
       "         0,   0,   0,   0,   0,   0,   0,   0,   0,   0,   0,   0,   0,\n",
       "        80, 156, 107, 253, 253, 205,  11,   0,  43, 154,   0,   0,   0,\n",
       "         0,   0,   0,   0,   0,   0,   0,   0,   0,   0,   0,   0,   0,\n",
       "         0,   0,   0,  14,   1, 154, 253,  90,   0,   0,   0,   0,   0,\n",
       "         0,   0,   0,   0,   0,   0,   0,   0,   0,   0,   0,   0,   0,\n",
       "         0,   0,   0,   0,   0,   0,   0, 139, 253, 190,   2,   0,   0,\n",
       "         0,   0,   0,   0,   0,   0,   0,   0,   0,   0,   0,   0,   0,\n",
       "         0,   0,   0,   0,   0,   0,   0,   0,   0,  11, 190, 253,  70,\n",
       "         0,   0,   0,   0,   0,   0,   0,   0,   0,   0,   0,   0,   0,\n",
       "         0,   0,   0,   0,   0,   0,   0,   0,   0,   0,   0,   0,  35,\n",
       "       241, 225, 160, 108,   1,   0,   0,   0,   0,   0,   0,   0,   0,\n",
       "         0,   0,   0,   0,   0,   0,   0,   0,   0,   0,   0,   0,   0,\n",
       "         0,   0,  81, 240, 253, 253, 119,  25,   0,   0,   0,   0,   0,\n",
       "         0,   0,   0,   0,   0,   0,   0,   0,   0,   0,   0,   0,   0,\n",
       "         0,   0,   0,   0,   0,  45, 186, 253, 253, 150,  27,   0,   0,\n",
       "         0,   0,   0,   0,   0,   0,   0,   0,   0,   0,   0,   0,   0,\n",
       "         0,   0,   0,   0,   0,   0,   0,   0,  16,  93, 252, 253, 187,\n",
       "         0,   0,   0,   0,   0,   0,   0,   0,   0,   0,   0,   0,   0,\n",
       "         0,   0,   0,   0,   0,   0,   0,   0,   0,   0,   0,   0, 249,\n",
       "       253, 249,  64,   0,   0,   0,   0,   0,   0,   0,   0,   0,   0,\n",
       "         0,   0,   0,   0,   0,   0,   0,   0,   0,   0,   0,  46, 130,\n",
       "       183, 253, 253, 207,   2,   0,   0,   0,   0,   0,   0,   0,   0,\n",
       "         0,   0,   0,   0,   0,   0,   0,   0,   0,   0,   0,  39, 148,\n",
       "       229, 253, 253, 253, 250, 182,   0,   0,   0,   0,   0,   0,   0,\n",
       "         0,   0,   0,   0,   0,   0,   0,   0,   0,   0,   0,  24, 114,\n",
       "       221, 253, 253, 253, 253, 201,  78,   0,   0,   0,   0,   0,   0,\n",
       "         0,   0,   0,   0,   0,   0,   0,   0,   0,   0,   0,  23,  66,\n",
       "       213, 253, 253, 253, 253, 198,  81,   2,   0,   0,   0,   0,   0,\n",
       "         0,   0,   0,   0,   0,   0,   0,   0,   0,   0,   0,  18, 171,\n",
       "       219, 253, 253, 253, 253, 195,  80,   9,   0,   0,   0,   0,   0,\n",
       "         0,   0,   0,   0,   0,   0,   0,   0,   0,   0,   0,  55, 172,\n",
       "       226, 253, 253, 253, 253, 244, 133,  11,   0,   0,   0,   0,   0,\n",
       "         0,   0,   0,   0,   0,   0,   0,   0,   0,   0,   0,   0,   0,\n",
       "       136, 253, 253, 253, 212, 135, 132,  16,   0,   0,   0,   0,   0,\n",
       "         0,   0,   0,   0,   0,   0,   0,   0,   0,   0,   0,   0,   0,\n",
       "         0,   0,   0,   0,   0,   0,   0,   0,   0,   0,   0,   0,   0,\n",
       "         0,   0,   0,   0,   0,   0,   0,   0,   0,   0,   0,   0,   0,\n",
       "         0,   0,   0,   0,   0,   0,   0,   0,   0,   0,   0,   0,   0,\n",
       "         0,   0,   0,   0,   0,   0,   0,   0,   0,   0,   0,   0,   0,\n",
       "         0,   0,   0,   0,   0,   0,   0,   0,   0,   0,   0,   0,   0,\n",
       "         0,   0,   0,   0,   0,   0,   0,   0,   0,   0,   0,   0,   0,\n",
       "         0,   0,   0,   0])"
      ]
     },
     "execution_count": 112,
     "metadata": {},
     "output_type": "execute_result"
    }
   ],
   "source": [
    "x_train_all[0]"
   ]
  },
  {
   "cell_type": "code",
   "execution_count": 113,
   "metadata": {},
   "outputs": [
    {
     "data": {
      "text/plain": [
       "(60000,)"
      ]
     },
     "execution_count": 113,
     "metadata": {},
     "output_type": "execute_result"
    }
   ],
   "source": [
    "y_train_all.shape"
   ]
  },
  {
   "cell_type": "code",
   "execution_count": 114,
   "metadata": {},
   "outputs": [
    {
     "data": {
      "text/plain": [
       "(10000, 784)"
      ]
     },
     "execution_count": 114,
     "metadata": {},
     "output_type": "execute_result"
    }
   ],
   "source": [
    "x_test.shape"
   ]
  },
  {
   "cell_type": "code",
   "execution_count": 115,
   "metadata": {},
   "outputs": [
    {
     "data": {
      "text/plain": [
       "array([5, 0, 4, 1, 9])"
      ]
     },
     "execution_count": 115,
     "metadata": {},
     "output_type": "execute_result"
    }
   ],
   "source": [
    "y_train_all[:5]"
   ]
  },
  {
   "cell_type": "markdown",
   "metadata": {},
   "source": [
    "# Data Preprocessing"
   ]
  },
  {
   "cell_type": "code",
   "execution_count": 116,
   "metadata": {},
   "outputs": [],
   "source": [
    "# Re-scale\n",
    "x_train_all, x_test = x_train_all / 255.0, x_test / 255.0"
   ]
  },
  {
   "cell_type": "markdown",
   "metadata": {},
   "source": [
    "### Convert target values to one-hot encoding"
   ]
  },
  {
   "cell_type": "code",
   "execution_count": 117,
   "metadata": {},
   "outputs": [
    {
     "data": {
      "text/plain": [
       "array([[0., 0., 0., 0., 0., 1., 0., 0., 0., 0.],\n",
       "       [1., 0., 0., 0., 0., 0., 0., 0., 0., 0.],\n",
       "       [0., 0., 0., 0., 1., 0., 0., 0., 0., 0.],\n",
       "       [0., 1., 0., 0., 0., 0., 0., 0., 0., 0.],\n",
       "       [0., 0., 0., 0., 0., 0., 0., 0., 0., 1.]])"
      ]
     },
     "execution_count": 117,
     "metadata": {},
     "output_type": "execute_result"
    }
   ],
   "source": [
    "values = y_train_all[:5]\n",
    "np.eye(10)[values]"
   ]
  },
  {
   "cell_type": "code",
   "execution_count": 118,
   "metadata": {},
   "outputs": [
    {
     "data": {
      "text/plain": [
       "array([[1., 0., 0., 0., 0., 0., 0., 0., 0., 0.],\n",
       "       [0., 1., 0., 0., 0., 0., 0., 0., 0., 0.],\n",
       "       [0., 0., 1., 0., 0., 0., 0., 0., 0., 0.],\n",
       "       [0., 0., 0., 1., 0., 0., 0., 0., 0., 0.],\n",
       "       [0., 0., 0., 0., 1., 0., 0., 0., 0., 0.],\n",
       "       [0., 0., 0., 0., 0., 1., 0., 0., 0., 0.],\n",
       "       [0., 0., 0., 0., 0., 0., 1., 0., 0., 0.],\n",
       "       [0., 0., 0., 0., 0., 0., 0., 1., 0., 0.],\n",
       "       [0., 0., 0., 0., 0., 0., 0., 0., 1., 0.],\n",
       "       [0., 0., 0., 0., 0., 0., 0., 0., 0., 1.]])"
      ]
     },
     "execution_count": 118,
     "metadata": {},
     "output_type": "execute_result"
    }
   ],
   "source": [
    "np.eye(10)"
   ]
  },
  {
   "cell_type": "code",
   "execution_count": 119,
   "metadata": {},
   "outputs": [
    {
     "data": {
      "text/plain": [
       "array([0., 0., 1., 0., 0., 0., 0., 0., 0., 0.])"
      ]
     },
     "execution_count": 119,
     "metadata": {},
     "output_type": "execute_result"
    }
   ],
   "source": [
    "np.eye(10)[2]"
   ]
  },
  {
   "cell_type": "code",
   "execution_count": 120,
   "metadata": {},
   "outputs": [
    {
     "data": {
      "text/plain": [
       "array([5, 0, 4, 1, 9])"
      ]
     },
     "execution_count": 120,
     "metadata": {},
     "output_type": "execute_result"
    }
   ],
   "source": [
    "values"
   ]
  },
  {
   "cell_type": "code",
   "execution_count": 121,
   "metadata": {},
   "outputs": [
    {
     "data": {
      "text/plain": [
       "9"
      ]
     },
     "execution_count": 121,
     "metadata": {},
     "output_type": "execute_result"
    }
   ],
   "source": [
    "values[4]"
   ]
  },
  {
   "cell_type": "code",
   "execution_count": 122,
   "metadata": {},
   "outputs": [],
   "source": [
    "y_train_all = np.eye(NR_CLASSES)[y_train_all]"
   ]
  },
  {
   "cell_type": "code",
   "execution_count": 123,
   "metadata": {},
   "outputs": [
    {
     "data": {
      "text/plain": [
       "(60000, 10)"
      ]
     },
     "execution_count": 123,
     "metadata": {},
     "output_type": "execute_result"
    }
   ],
   "source": [
    "y_train_all.shape"
   ]
  },
  {
   "cell_type": "code",
   "execution_count": 124,
   "metadata": {},
   "outputs": [
    {
     "data": {
      "text/plain": [
       "(10000, 10)"
      ]
     },
     "execution_count": 124,
     "metadata": {},
     "output_type": "execute_result"
    }
   ],
   "source": [
    "y_test = np.eye(NR_CLASSES)[y_test]\n",
    "y_test.shape"
   ]
  },
  {
   "cell_type": "markdown",
   "metadata": {},
   "source": [
    "## Create validation dataset from training data"
   ]
  },
  {
   "cell_type": "code",
   "execution_count": 125,
   "metadata": {},
   "outputs": [],
   "source": [
    "x_val = x_train_all[:VALIDATION_SIZE]\n",
    "y_val = y_train_all[:VALIDATION_SIZE]"
   ]
  },
  {
   "cell_type": "code",
   "execution_count": 126,
   "metadata": {},
   "outputs": [],
   "source": [
    "x_train = x_train_all[VALIDATION_SIZE:]\n",
    "y_train = y_train_all[VALIDATION_SIZE:]"
   ]
  },
  {
   "cell_type": "code",
   "execution_count": 127,
   "metadata": {},
   "outputs": [
    {
     "data": {
      "text/plain": [
       "(50000, 784)"
      ]
     },
     "execution_count": 127,
     "metadata": {},
     "output_type": "execute_result"
    }
   ],
   "source": [
    "x_train.shape"
   ]
  },
  {
   "cell_type": "code",
   "execution_count": 128,
   "metadata": {},
   "outputs": [
    {
     "data": {
      "text/plain": [
       "(10000, 784)"
      ]
     },
     "execution_count": 128,
     "metadata": {},
     "output_type": "execute_result"
    }
   ],
   "source": [
    "x_val.shape"
   ]
  },
  {
   "cell_type": "code",
   "execution_count": 129,
   "metadata": {},
   "outputs": [],
   "source": [
    "class LogImages(tf.keras.callbacks.Callback):\n",
    "    def __init__(self, log_dir, x_data):\n",
    "        super(LogImages, self).__init__()\n",
    "        self.log_dir = log_dir\n",
    "        self.x_data = x_data \n",
    "        \n",
    "    def on_epoch_end(self, epoch, logs=None):\n",
    "        # Log a batch of images at the end of an epoch\n",
    "        file_writer = tf.summary.create_file_writer(self.log_dir + '/images')\n",
    "\n",
    "        with file_writer.as_default():\n",
    "            images = np.reshape(self.x_data[:4], (-1, 28, 28, 1))  # Log 4 images\n",
    "            tf.summary.image(\"4 training data examples\", images, max_outputs=4, step=epoch)"
   ]
  },
  {
   "cell_type": "markdown",
   "metadata": {},
   "source": [
    "# Load the training Image"
   ]
  },
  {
   "cell_type": "code",
   "execution_count": 130,
   "metadata": {},
   "outputs": [],
   "source": [
    "from tensorflow.keras.preprocessing.image import img_to_array, load_img\n",
    "\n",
    "img_path = '/Users/kenny/Documents/DS Projects/MathGarden/MNIST/test_img.png'\n",
    "\n",
    "img = load_img(img_path, color_mode='grayscale', target_size=(28, 28))\n",
    "\n",
    "img_array = img_to_array(img) / 255.0\n",
    "\n",
    "test_img = img_array.flatten()\n"
   ]
  },
  {
   "cell_type": "markdown",
   "metadata": {
    "collapsed": true
   },
   "source": [
    "# Setup Tensorflow Graph"
   ]
  },
  {
   "cell_type": "code",
   "execution_count": 131,
   "metadata": {
    "scrolled": true
   },
   "outputs": [
    {
     "name": "stdout",
     "output_type": "stream",
     "text": [
      "Model: \"sequential_10\"\n",
      "_________________________________________________________________\n",
      " Layer (type)                Output Shape              Param #   \n",
      "=================================================================\n",
      " layer_1 (Dense)             (None, 512)               401920    \n",
      "                                                                 \n",
      " dropout_9 (Dropout)         (None, 512)               0         \n",
      "                                                                 \n",
      " layer_2 (Dense)             (None, 64)                32832     \n",
      "                                                                 \n",
      " output_layer (Dense)        (None, 10)                650       \n",
      "                                                                 \n",
      "=================================================================\n",
      "Total params: 435402 (1.66 MB)\n",
      "Trainable params: 435402 (1.66 MB)\n",
      "Non-trainable params: 0 (0.00 Byte)\n",
      "_________________________________________________________________\n",
      "Epoch 1/10\n",
      "50/50 [==============================] - 3s 27ms/step - loss: 0.6423 - accuracy: 0.8168 - val_loss: 0.2535 - val_accuracy: 0.9264\n",
      "Epoch 2/10\n",
      "50/50 [==============================] - 1s 19ms/step - loss: 0.2304 - accuracy: 0.9326 - val_loss: 0.1810 - val_accuracy: 0.9484\n",
      "Epoch 3/10\n",
      "50/50 [==============================] - 1s 18ms/step - loss: 0.1654 - accuracy: 0.9517 - val_loss: 0.1436 - val_accuracy: 0.9591\n",
      "Epoch 4/10\n",
      "50/50 [==============================] - 1s 18ms/step - loss: 0.1289 - accuracy: 0.9629 - val_loss: 0.1234 - val_accuracy: 0.9627\n",
      "Epoch 5/10\n",
      "50/50 [==============================] - 1s 18ms/step - loss: 0.1049 - accuracy: 0.9692 - val_loss: 0.1044 - val_accuracy: 0.9701\n",
      "Epoch 6/10\n",
      "50/50 [==============================] - 1s 21ms/step - loss: 0.0873 - accuracy: 0.9739 - val_loss: 0.0914 - val_accuracy: 0.9731\n",
      "Epoch 7/10\n",
      "50/50 [==============================] - 1s 18ms/step - loss: 0.0735 - accuracy: 0.9783 - val_loss: 0.0893 - val_accuracy: 0.9731\n",
      "Epoch 8/10\n",
      "50/50 [==============================] - 1s 18ms/step - loss: 0.0648 - accuracy: 0.9813 - val_loss: 0.0811 - val_accuracy: 0.9756\n",
      "Epoch 9/10\n",
      "50/50 [==============================] - 1s 18ms/step - loss: 0.0543 - accuracy: 0.9840 - val_loss: 0.0773 - val_accuracy: 0.9763\n",
      "Epoch 10/10\n",
      "50/50 [==============================] - 1s 18ms/step - loss: 0.0488 - accuracy: 0.9860 - val_loss: 0.0772 - val_accuracy: 0.9780\n",
      "313/313 [==============================] - 1s 2ms/step - loss: 0.0708 - accuracy: 0.9765\n",
      "Test loss: 0.0708184540271759, Test accuracy: 0.9764999747276306\n",
      "1/1 [==============================] - 0s 68ms/step\n",
      "Prediction for test image is [3]\n"
     ]
    }
   ],
   "source": [
    "from tensorflow.keras.models import Sequential\n",
    "from tensorflow.keras.layers import Dense, Flatten, Dropout\n",
    "\n",
    "# Neural network architecture parameters\n",
    "n_hidden1 = 512  \n",
    "n_hidden2 = 64   \n",
    "NR_CLASSES = 10  \n",
    "nr_epochs = 10   \n",
    "\n",
    "# Define the Model\n",
    "model = Sequential([\n",
    "    Dense(n_hidden1, activation='relu', input_shape=(TOTAL_INPUTS,), name='layer_1'),  # Note the input_shape adjustment\n",
    "    Dropout(0.2), \n",
    "    Dense(n_hidden2, activation='relu', name='layer_2'),\n",
    "    Dense(NR_CLASSES, activation='softmax', name='output_layer')\n",
    "])\n",
    "\n",
    "\n",
    "# Compile the Model\n",
    "model.compile(optimizer='adam', \n",
    "              loss='categorical_crossentropy', \n",
    "              metrics=['accuracy'])\n",
    "\n",
    "# Display model's architecture\n",
    "model.summary()\n",
    "\n",
    "# Train the Model\n",
    "history = model.fit(x_train, y_train, epochs=nr_epochs, batch_size=1000, validation_data=(x_val, y_val))\n",
    "\n",
    "# Evaluate the Model on the test data\n",
    "test_loss, test_accuracy = model.evaluate(x_test, y_test)\n",
    "print(f\"Test loss: {test_loss}, Test accuracy: {test_accuracy}\")\n",
    "\n",
    "# Model Predictions\n",
    "predictions = model.predict(np.array([test_img])) \n",
    "predicted_class = np.argmax(predictions, axis=1)\n",
    "print(f\"Prediction for test image is {predicted_class}\")\n"
   ]
  },
  {
   "cell_type": "markdown",
   "metadata": {},
   "source": [
    "## Neural Network Architecture"
   ]
  },
  {
   "cell_type": "code",
   "execution_count": 132,
   "metadata": {},
   "outputs": [],
   "source": [
    "nr_epochs = 50\n",
    "learning_rate = 1e-3\n",
    "\n",
    "n_hidden1 = 512\n",
    "n_hidden2 = 64"
   ]
  },
  {
   "cell_type": "code",
   "execution_count": null,
   "metadata": {},
   "outputs": [],
   "source": []
  },
  {
   "cell_type": "code",
   "execution_count": 133,
   "metadata": {},
   "outputs": [],
   "source": [
    "model = Sequential([\n",
    "    Dense(n_hidden1, activation='relu', input_shape=(TOTAL_INPUTS,), name='layer_1'),\n",
    "    Dropout(0.2),\n",
    "    Dense(n_hidden2, activation='relu', name='layer_2'),\n",
    "    Dense(NR_CLASSES, activation='softmax', name='output_layer')\n",
    "])\n",
    "\n",
    "model.compile(optimizer='adam', \n",
    "              loss='categorical_crossentropy', \n",
    "              metrics=['accuracy'])\n"
   ]
  },
  {
   "cell_type": "markdown",
   "metadata": {},
   "source": [
    "# Tensorboard Setup"
   ]
  },
  {
   "cell_type": "code",
   "execution_count": 134,
   "metadata": {
    "scrolled": true
   },
   "outputs": [
    {
     "name": "stdout",
     "output_type": "stream",
     "text": [
      "The tensorboard extension is already loaded. To reload it, use:\n",
      "  %reload_ext tensorboard\n"
     ]
    },
    {
     "data": {
      "text/plain": [
       "Reusing TensorBoard on port 6007 (pid 19019), started 0:31:06 ago. (Use '!kill 19019' to kill it.)"
      ]
     },
     "metadata": {},
     "output_type": "display_data"
    },
    {
     "data": {
      "text/html": [
       "\n",
       "      <iframe id=\"tensorboard-frame-bcdfa72b392ec724\" width=\"100%\" height=\"800\" frameborder=\"0\">\n",
       "      </iframe>\n",
       "      <script>\n",
       "        (function() {\n",
       "          const frame = document.getElementById(\"tensorboard-frame-bcdfa72b392ec724\");\n",
       "          const url = new URL(\"/\", window.location);\n",
       "          const port = 6007;\n",
       "          if (port) {\n",
       "            url.port = port;\n",
       "          }\n",
       "          frame.src = url;\n",
       "        })();\n",
       "      </script>\n",
       "    "
      ],
      "text/plain": [
       "<IPython.core.display.HTML object>"
      ]
     },
     "metadata": {},
     "output_type": "display_data"
    }
   ],
   "source": [
    "%load_ext tensorboard\n",
    "%tensorboard --logdir logs/fit\n",
    "\n"
   ]
  },
  {
   "cell_type": "markdown",
   "metadata": {},
   "source": [
    "# Loss, Optimisation & Metrics"
   ]
  },
  {
   "cell_type": "code",
   "execution_count": 135,
   "metadata": {},
   "outputs": [
    {
     "name": "stdout",
     "output_type": "stream",
     "text": [
      "Model: \"sequential_12\"\n",
      "_________________________________________________________________\n",
      " Layer (type)                Output Shape              Param #   \n",
      "=================================================================\n",
      " layer_1 (Dense)             (None, 512)               401920    \n",
      "                                                                 \n",
      " dropout_11 (Dropout)        (None, 512)               0         \n",
      "                                                                 \n",
      " layer_2 (Dense)             (None, 64)                32832     \n",
      "                                                                 \n",
      " output_layer (Dense)        (None, 10)                650       \n",
      "                                                                 \n",
      "=================================================================\n",
      "Total params: 435402 (1.66 MB)\n",
      "Trainable params: 435402 (1.66 MB)\n",
      "Non-trainable params: 0 (0.00 Byte)\n",
      "_________________________________________________________________\n"
     ]
    }
   ],
   "source": [
    "from tensorflow.keras.models import Sequential\n",
    "from tensorflow.keras.layers import Dense, Dropout\n",
    "\n",
    "# Constants for the model\n",
    "n_hidden1 = 512  \n",
    "n_hidden2 = 64   \n",
    "NR_CLASSES = 10  \n",
    "TOTAL_INPUTS = 784 \n",
    "\n",
    "# Define the Model\n",
    "model = Sequential([\n",
    "    Dense(n_hidden1, activation='relu', input_shape=(TOTAL_INPUTS,), name='layer_1'),\n",
    "    Dropout(0.2), \n",
    "    Dense(n_hidden2, activation='relu', name='layer_2'),\n",
    "    Dense(NR_CLASSES, activation='softmax', name='output_layer')\n",
    "])\n",
    "\n",
    "# Compile the Model\n",
    "model.compile(optimizer='adam', \n",
    "              loss='categorical_crossentropy', \n",
    "              metrics=['accuracy'])\n",
    "\n",
    "# Display model's architecture\n",
    "model.summary()\n"
   ]
  },
  {
   "cell_type": "markdown",
   "metadata": {},
   "source": [
    "# Run Session"
   ]
  },
  {
   "cell_type": "code",
   "execution_count": 136,
   "metadata": {
    "scrolled": true
   },
   "outputs": [
    {
     "name": "stdout",
     "output_type": "stream",
     "text": [
      "Epoch 1/50\n",
      "50/50 [==============================] - 2s 24ms/step - loss: 0.6179 - accuracy: 0.8235 - val_loss: 0.2599 - val_accuracy: 0.9265\n",
      "Epoch 2/50\n",
      "50/50 [==============================] - 1s 19ms/step - loss: 0.2316 - accuracy: 0.9321 - val_loss: 0.1856 - val_accuracy: 0.9462\n",
      "Epoch 3/50\n",
      "50/50 [==============================] - 1s 19ms/step - loss: 0.1677 - accuracy: 0.9510 - val_loss: 0.1503 - val_accuracy: 0.9566\n",
      "Epoch 4/50\n",
      "50/50 [==============================] - 1s 20ms/step - loss: 0.1330 - accuracy: 0.9615 - val_loss: 0.1275 - val_accuracy: 0.9623\n",
      "Epoch 5/50\n",
      "50/50 [==============================] - 1s 18ms/step - loss: 0.1068 - accuracy: 0.9687 - val_loss: 0.1101 - val_accuracy: 0.9681\n",
      "Epoch 6/50\n",
      "50/50 [==============================] - 1s 19ms/step - loss: 0.0914 - accuracy: 0.9727 - val_loss: 0.0983 - val_accuracy: 0.9708\n",
      "Epoch 7/50\n",
      "50/50 [==============================] - 1s 18ms/step - loss: 0.0749 - accuracy: 0.9785 - val_loss: 0.0947 - val_accuracy: 0.9711\n",
      "Epoch 8/50\n",
      "50/50 [==============================] - 1s 20ms/step - loss: 0.0646 - accuracy: 0.9809 - val_loss: 0.0830 - val_accuracy: 0.9747\n",
      "Epoch 9/50\n",
      "50/50 [==============================] - 1s 19ms/step - loss: 0.0560 - accuracy: 0.9835 - val_loss: 0.0808 - val_accuracy: 0.9747\n",
      "Epoch 10/50\n",
      "50/50 [==============================] - 1s 18ms/step - loss: 0.0475 - accuracy: 0.9858 - val_loss: 0.0780 - val_accuracy: 0.9758\n",
      "Epoch 11/50\n",
      "50/50 [==============================] - 1s 19ms/step - loss: 0.0419 - accuracy: 0.9883 - val_loss: 0.0749 - val_accuracy: 0.9776\n",
      "Epoch 12/50\n",
      "50/50 [==============================] - 1s 21ms/step - loss: 0.0378 - accuracy: 0.9887 - val_loss: 0.0708 - val_accuracy: 0.9788\n",
      "Epoch 13/50\n",
      "50/50 [==============================] - 1s 21ms/step - loss: 0.0319 - accuracy: 0.9908 - val_loss: 0.0674 - val_accuracy: 0.9801\n",
      "Epoch 14/50\n",
      "50/50 [==============================] - 1s 20ms/step - loss: 0.0283 - accuracy: 0.9920 - val_loss: 0.0697 - val_accuracy: 0.9794\n",
      "Epoch 15/50\n",
      "50/50 [==============================] - 1s 21ms/step - loss: 0.0257 - accuracy: 0.9922 - val_loss: 0.0692 - val_accuracy: 0.9800\n",
      "Epoch 16/50\n",
      "50/50 [==============================] - 1s 23ms/step - loss: 0.0231 - accuracy: 0.9939 - val_loss: 0.0692 - val_accuracy: 0.9798\n",
      "Epoch 17/50\n",
      "50/50 [==============================] - 1s 21ms/step - loss: 0.0210 - accuracy: 0.9944 - val_loss: 0.0695 - val_accuracy: 0.9801\n",
      "Epoch 18/50\n",
      "50/50 [==============================] - 1s 19ms/step - loss: 0.0182 - accuracy: 0.9953 - val_loss: 0.0684 - val_accuracy: 0.9804\n",
      "Epoch 19/50\n",
      "50/50 [==============================] - 1s 22ms/step - loss: 0.0163 - accuracy: 0.9954 - val_loss: 0.0750 - val_accuracy: 0.9790\n",
      "Epoch 20/50\n",
      "50/50 [==============================] - 1s 21ms/step - loss: 0.0153 - accuracy: 0.9961 - val_loss: 0.0689 - val_accuracy: 0.9809\n",
      "Epoch 21/50\n",
      "50/50 [==============================] - 1s 22ms/step - loss: 0.0132 - accuracy: 0.9967 - val_loss: 0.0713 - val_accuracy: 0.9804\n",
      "Epoch 22/50\n",
      "50/50 [==============================] - 1s 24ms/step - loss: 0.0127 - accuracy: 0.9967 - val_loss: 0.0673 - val_accuracy: 0.9815\n",
      "Epoch 23/50\n",
      "50/50 [==============================] - 1s 19ms/step - loss: 0.0115 - accuracy: 0.9972 - val_loss: 0.0688 - val_accuracy: 0.9813\n",
      "Epoch 24/50\n",
      "50/50 [==============================] - 1s 18ms/step - loss: 0.0107 - accuracy: 0.9974 - val_loss: 0.0664 - val_accuracy: 0.9833\n",
      "Epoch 25/50\n",
      "50/50 [==============================] - 1s 19ms/step - loss: 0.0096 - accuracy: 0.9977 - val_loss: 0.0710 - val_accuracy: 0.9811\n",
      "Epoch 26/50\n",
      "50/50 [==============================] - 1s 20ms/step - loss: 0.0090 - accuracy: 0.9979 - val_loss: 0.0691 - val_accuracy: 0.9823\n",
      "Epoch 27/50\n",
      "50/50 [==============================] - 1s 20ms/step - loss: 0.0081 - accuracy: 0.9980 - val_loss: 0.0715 - val_accuracy: 0.9819\n",
      "Epoch 28/50\n",
      "50/50 [==============================] - 1s 21ms/step - loss: 0.0082 - accuracy: 0.9978 - val_loss: 0.0694 - val_accuracy: 0.9824\n",
      "Epoch 29/50\n",
      "50/50 [==============================] - 1s 20ms/step - loss: 0.0082 - accuracy: 0.9979 - val_loss: 0.0708 - val_accuracy: 0.9821\n",
      "Epoch 30/50\n",
      "50/50 [==============================] - 1s 19ms/step - loss: 0.0072 - accuracy: 0.9981 - val_loss: 0.0707 - val_accuracy: 0.9838\n",
      "Epoch 31/50\n",
      "50/50 [==============================] - 1s 20ms/step - loss: 0.0069 - accuracy: 0.9983 - val_loss: 0.0740 - val_accuracy: 0.9819\n",
      "Epoch 32/50\n",
      "50/50 [==============================] - 1s 22ms/step - loss: 0.0062 - accuracy: 0.9986 - val_loss: 0.0762 - val_accuracy: 0.9816\n",
      "Epoch 33/50\n",
      "50/50 [==============================] - 1s 22ms/step - loss: 0.0055 - accuracy: 0.9989 - val_loss: 0.0752 - val_accuracy: 0.9814\n",
      "Epoch 34/50\n",
      "50/50 [==============================] - 1s 20ms/step - loss: 0.0060 - accuracy: 0.9985 - val_loss: 0.0761 - val_accuracy: 0.9812\n",
      "Epoch 35/50\n",
      "50/50 [==============================] - 1s 22ms/step - loss: 0.0055 - accuracy: 0.9986 - val_loss: 0.0702 - val_accuracy: 0.9829\n",
      "Epoch 36/50\n",
      "50/50 [==============================] - 1s 21ms/step - loss: 0.0049 - accuracy: 0.9988 - val_loss: 0.0738 - val_accuracy: 0.9834\n",
      "Epoch 37/50\n",
      "50/50 [==============================] - 1s 21ms/step - loss: 0.0048 - accuracy: 0.9989 - val_loss: 0.0709 - val_accuracy: 0.9840\n",
      "Epoch 38/50\n",
      "50/50 [==============================] - 1s 23ms/step - loss: 0.0041 - accuracy: 0.9991 - val_loss: 0.0779 - val_accuracy: 0.9823\n",
      "Epoch 39/50\n",
      "50/50 [==============================] - 1s 23ms/step - loss: 0.0042 - accuracy: 0.9991 - val_loss: 0.0772 - val_accuracy: 0.9826\n",
      "Epoch 40/50\n",
      "50/50 [==============================] - 1s 21ms/step - loss: 0.0039 - accuracy: 0.9992 - val_loss: 0.0792 - val_accuracy: 0.9822\n",
      "Epoch 41/50\n",
      "50/50 [==============================] - 1s 22ms/step - loss: 0.0041 - accuracy: 0.9992 - val_loss: 0.0763 - val_accuracy: 0.9823\n",
      "Epoch 42/50\n",
      "50/50 [==============================] - 1s 22ms/step - loss: 0.0040 - accuracy: 0.9991 - val_loss: 0.0844 - val_accuracy: 0.9818\n",
      "Epoch 43/50\n",
      "50/50 [==============================] - 1s 20ms/step - loss: 0.0055 - accuracy: 0.9984 - val_loss: 0.0829 - val_accuracy: 0.9804\n",
      "Epoch 44/50\n",
      "50/50 [==============================] - 1s 23ms/step - loss: 0.0045 - accuracy: 0.9988 - val_loss: 0.0793 - val_accuracy: 0.9820\n",
      "Epoch 45/50\n",
      "50/50 [==============================] - 1s 21ms/step - loss: 0.0046 - accuracy: 0.9989 - val_loss: 0.0784 - val_accuracy: 0.9816\n",
      "Epoch 46/50\n",
      "50/50 [==============================] - 1s 21ms/step - loss: 0.0042 - accuracy: 0.9990 - val_loss: 0.0828 - val_accuracy: 0.9828\n",
      "Epoch 47/50\n",
      "50/50 [==============================] - 1s 21ms/step - loss: 0.0043 - accuracy: 0.9990 - val_loss: 0.0785 - val_accuracy: 0.9827\n",
      "Epoch 48/50\n",
      "50/50 [==============================] - 1s 23ms/step - loss: 0.0034 - accuracy: 0.9991 - val_loss: 0.0805 - val_accuracy: 0.9829\n",
      "Epoch 49/50\n",
      "50/50 [==============================] - 1s 24ms/step - loss: 0.0031 - accuracy: 0.9992 - val_loss: 0.0830 - val_accuracy: 0.9820\n",
      "Epoch 50/50\n",
      "50/50 [==============================] - 1s 24ms/step - loss: 0.0031 - accuracy: 0.9993 - val_loss: 0.0850 - val_accuracy: 0.9820\n",
      "{'loss': [0.6179391145706177, 0.2315639704465866, 0.1676628738641739, 0.1329767256975174, 0.10681363940238953, 0.09137571603059769, 0.0748787671327591, 0.06463319063186646, 0.05599426105618477, 0.04746713861823082, 0.04189279302954674, 0.037807583808898926, 0.03188468888401985, 0.02831592783331871, 0.025708021596074104, 0.023084457963705063, 0.020959068089723587, 0.018151551485061646, 0.016252972185611725, 0.015264179557561874, 0.01322326622903347, 0.012710661627352238, 0.011459955945611, 0.010743951424956322, 0.009558461606502533, 0.008960113860666752, 0.008127578534185886, 0.008154385723173618, 0.008225402794778347, 0.007205250672996044, 0.006856759078800678, 0.0062033007852733135, 0.005530952010303736, 0.0059739951975643635, 0.005543578881770372, 0.004948411602526903, 0.004768288694322109, 0.004135128576308489, 0.00420796312391758, 0.003895468544214964, 0.004062745254486799, 0.0040435451082885265, 0.005531014874577522, 0.004527730401605368, 0.004646157380193472, 0.004240752663463354, 0.004336935933679342, 0.0034095754381269217, 0.0030719873029738665, 0.0030916817486286163], 'accuracy': [0.8235399723052979, 0.9321200251579285, 0.9509999752044678, 0.9614999890327454, 0.9686599969863892, 0.9726999998092651, 0.9785000085830688, 0.9809200167655945, 0.9834799766540527, 0.9857800006866455, 0.988319993019104, 0.9886800050735474, 0.9907799959182739, 0.9919999837875366, 0.9922000169754028, 0.9939200282096863, 0.9944000244140625, 0.9952600002288818, 0.9954400062561035, 0.9961000084877014, 0.996720016002655, 0.9966800212860107, 0.9971799850463867, 0.9973800182342529, 0.9976800084114075, 0.9979000091552734, 0.9980199933052063, 0.9978399872779846, 0.9978600144386292, 0.9980599880218506, 0.9983199834823608, 0.9986199736595154, 0.9988999962806702, 0.9984999895095825, 0.9986000061035156, 0.9987599849700928, 0.9989200234413147, 0.9990800023078918, 0.9990599751472473, 0.9992200136184692, 0.999239981174469, 0.9991199970245361, 0.998420000076294, 0.9988399744033813, 0.9989399909973145, 0.998960018157959, 0.9990000128746033, 0.9991199970245361, 0.999180018901825, 0.9992799758911133], 'val_loss': [0.2599075734615326, 0.18562538921833038, 0.15026338398456573, 0.12753905355930328, 0.11013968288898468, 0.09827324002981186, 0.09466374665498734, 0.08303804695606232, 0.0808253064751625, 0.07803172618150711, 0.07492441684007645, 0.07078239321708679, 0.06739895045757294, 0.06970608234405518, 0.06921709328889847, 0.06920576095581055, 0.06953545659780502, 0.06840268522500992, 0.07504281401634216, 0.06887338310480118, 0.07125869393348694, 0.06728523969650269, 0.06875085085630417, 0.06637026369571686, 0.0709925964474678, 0.06910727918148041, 0.0714738741517067, 0.06937806308269501, 0.07083357870578766, 0.07072485983371735, 0.07399196922779083, 0.0762191042304039, 0.07516966760158539, 0.07613550126552582, 0.0702013298869133, 0.07378356903791428, 0.07087185978889465, 0.07792145758867264, 0.07724907249212265, 0.07921605557203293, 0.07625213265419006, 0.08436992019414902, 0.08286650478839874, 0.07934144139289856, 0.07839421182870865, 0.08276807516813278, 0.07846970111131668, 0.08045444637537003, 0.08304096758365631, 0.0849587470293045], 'val_accuracy': [0.9265000224113464, 0.9462000131607056, 0.95660001039505, 0.9623000025749207, 0.9681000113487244, 0.97079998254776, 0.9710999727249146, 0.9746999740600586, 0.9746999740600586, 0.9757999777793884, 0.9775999784469604, 0.9787999987602234, 0.9800999760627747, 0.9793999791145325, 0.9800000190734863, 0.9797999858856201, 0.9800999760627747, 0.980400025844574, 0.9789999723434448, 0.98089998960495, 0.980400025844574, 0.9815000295639038, 0.9812999963760376, 0.983299970626831, 0.9811000227928162, 0.9822999835014343, 0.9818999767303467, 0.9824000000953674, 0.9821000099182129, 0.9837999939918518, 0.9818999767303467, 0.9815999865531921, 0.9814000129699707, 0.9811999797821045, 0.9829000234603882, 0.9833999872207642, 0.984000027179718, 0.9822999835014343, 0.9825999736785889, 0.982200026512146, 0.9822999835014343, 0.9818000197410583, 0.980400025844574, 0.9819999933242798, 0.9815999865531921, 0.9828000068664551, 0.982699990272522, 0.9829000234603882, 0.9819999933242798, 0.9819999933242798]}\n"
     ]
    },
    {
     "name": "stdout",
     "output_type": "stream",
     "text": [
      "313/313 [==============================] - 1s 2ms/step - loss: 0.0737 - accuracy: 0.9821\n",
      "Test Loss: 0.07373380661010742, Test Accuracy: 0.9821000099182129\n"
     ]
    }
   ],
   "source": [
    "# Define the batch size for training\n",
    "size_of_batch = 1000 \n",
    "\n",
    "history = model.fit(x_train, y_train,\n",
    "                    epochs=nr_epochs,\n",
    "                    batch_size=size_of_batch,\n",
    "                    validation_data=(x_val, y_val))\n",
    "\n",
    "print(history.history)\n",
    "\n",
    "# Evaluate the Model on the test dataset\n",
    "test_loss, test_accuracy = model.evaluate(x_test, y_test)\n",
    "print(f'Test Loss: {test_loss}, Test Accuracy: {test_accuracy}')\n"
   ]
  },
  {
   "cell_type": "markdown",
   "metadata": {},
   "source": [
    "# Make a Prediction"
   ]
  },
  {
   "cell_type": "code",
   "execution_count": 137,
   "metadata": {},
   "outputs": [
    {
     "name": "stdout",
     "output_type": "stream",
     "text": [
      "WARNING:tensorflow:5 out of the last 5 calls to <function Model.make_predict_function.<locals>.predict_function at 0x1a92b7d80> triggered tf.function retracing. Tracing is expensive and the excessive number of tracings could be due to (1) creating @tf.function repeatedly in a loop, (2) passing tensors with different shapes, (3) passing Python objects instead of tensors. For (1), please define your @tf.function outside of the loop. For (2), @tf.function has reduce_retracing=True option that can avoid unnecessary retracing. For (3), please refer to https://www.tensorflow.org/guide/function#controlling_retracing and https://www.tensorflow.org/api_docs/python/tf/function for  more details.\n",
      "1/1 [==============================] - 0s 70ms/step\n",
      "Prediction for test image is [5]\n"
     ]
    }
   ],
   "source": [
    "from tensorflow.keras.preprocessing.image import img_to_array, load_img\n",
    "\n",
    "# Load the image, ensuring it is in grayscale, and resize it to 28x28 pixels\n",
    "img = load_img('MNIST/test_img.png', color_mode='grayscale', target_size=(28, 28))\n",
    "\n",
    "# Convert the image to an array, normalize it, and possibly invert if required\n",
    "img_array = img_to_array(img) / 255.0\n",
    "\n",
    "# If your model was trained on inverted images, invert the pixel values\n",
    "# img_array = 1.0 - img_array\n",
    "\n",
    "# Flatten the array if your model expects flattened input\n",
    "test_img = img_array.flatten()\n",
    "\n",
    "# Make the prediction\n",
    "predictions = model.predict(np.array([test_img]))\n",
    "predicted_class = np.argmax(predictions, axis=1)\n",
    "print(f'Prediction for test image is {predicted_class}')\n"
   ]
  },
  {
   "cell_type": "code",
   "execution_count": 138,
   "metadata": {},
   "outputs": [
    {
     "name": "stdout",
     "output_type": "stream",
     "text": [
      "313/313 [==============================] - 1s 2ms/step - loss: 0.0737 - accuracy: 0.9821\n",
      "Accuracy on test set is 98.21%\n"
     ]
    }
   ],
   "source": [
    "# Evaluate the model on the test dataset\n",
    "test_loss, test_accuracy = model.evaluate(x_test, y_test)\n",
    "print(f'Accuracy on test set is {test_accuracy:.2%}')\n"
   ]
  }
 ],
 "metadata": {
  "kernelspec": {
   "display_name": "Python 3 (ipykernel)",
   "language": "python",
   "name": "python3"
  },
  "language_info": {
   "codemirror_mode": {
    "name": "ipython",
    "version": 3
   },
   "file_extension": ".py",
   "mimetype": "text/x-python",
   "name": "python",
   "nbconvert_exporter": "python",
   "pygments_lexer": "ipython3",
   "version": "3.11.5"
  }
 },
 "nbformat": 4,
 "nbformat_minor": 2
}
